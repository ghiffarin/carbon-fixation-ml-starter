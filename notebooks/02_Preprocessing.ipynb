{
 "cells": [
  {
   "cell_type": "code",
   "execution_count": 28,
   "id": "e1b98d16-58ba-416e-86d8-a0baa53729d3",
   "metadata": {},
   "outputs": [],
   "source": [
    "from pathlib import Path\n",
    "import re, unicodedata\n",
    "import numpy as np\n",
    "import pandas as pd\n",
    "from sklearn.compose import ColumnTransformer\n",
    "from sklearn.pipeline import Pipeline\n",
    "from sklearn.preprocessing import StandardScaler\n",
    "from sklearn.impute import SimpleImputer\n",
    "from sklearn.model_selection import GroupShuffleSplit, train_test_split\n",
    "import joblib\n",
    "\n",
    "# -------- canonical name normalizer (same as EDA) ----------\n",
    "def canon(name: str) -> str:\n",
    "    s = unicodedata.normalize(\"NFKC\", str(name))\n",
    "    s = s.replace(\"\\u200b\", \"\").replace(\"\\xa0\", \"\")\n",
    "    s = s.strip().lower()\n",
    "    s = s.translate(str.maketrans({\"µ\": \"u\", \"μ\": \"u\"}))\n",
    "    s = s.replace(\"umol m-2 s-1\", \"umol_m2_s1\")\n",
    "    s = s.replace(\"umol/m2/s\",  \"umol_m2_s1\")\n",
    "    s = s.replace(\"umol m^-2 s^-1\", \"umol_m2_s1\")\n",
    "    s = re.sub(r\"[^a-z0-9]+\", \"_\", s)\n",
    "    s = re.sub(r\"_+\", \"_\", s).strip(\"_\")\n",
    "    return s\n",
    "\n",
    "# -------- paths ----------\n",
    "ROOT = Path.cwd().parents[0]\n",
    "DATA = ROOT / \"data\" / \"processed\"\n",
    "MODELS = ROOT / \"models\"  # optional\n",
    "\n",
    "IN_CSV  = DATA / \"microalgae_dataset_clean.csv\"  # output from EDA\n",
    "ART_DIR = DATA                                     # where we save artifacts\n",
    "\n",
    "TARGET = \"co2_fixation_g_l_day\"  # same as EDA\n"
   ]
  },
  {
   "cell_type": "code",
   "execution_count": 29,
   "id": "1f682b32-3caf-4deb-b6c6-a48558d7bd02",
   "metadata": {},
   "outputs": [
    {
     "name": "stdout",
     "output_type": "stream",
     "text": [
      "(300, 12)\n"
     ]
    },
    {
     "data": {
      "text/html": [
       "<div>\n",
       "<style scoped>\n",
       "    .dataframe tbody tr th:only-of-type {\n",
       "        vertical-align: middle;\n",
       "    }\n",
       "\n",
       "    .dataframe tbody tr th {\n",
       "        vertical-align: top;\n",
       "    }\n",
       "\n",
       "    .dataframe thead th {\n",
       "        text-align: right;\n",
       "    }\n",
       "</style>\n",
       "<table border=\"1\" class=\"dataframe\">\n",
       "  <thead>\n",
       "    <tr style=\"text-align: right;\">\n",
       "      <th></th>\n",
       "      <th>sample_id</th>\n",
       "      <th>day_index</th>\n",
       "      <th>air_temp_c</th>\n",
       "      <th>light_intensity_umol_m2_s1</th>\n",
       "      <th>ph_before_injection</th>\n",
       "      <th>ph_after_injection</th>\n",
       "      <th>do_mg_l</th>\n",
       "      <th>salinity_psu</th>\n",
       "      <th>optical_density</th>\n",
       "      <th>dry_weight_g_l</th>\n",
       "      <th>growth_rate</th>\n",
       "      <th>co2_fixation_g_l_day</th>\n",
       "    </tr>\n",
       "  </thead>\n",
       "  <tbody>\n",
       "    <tr>\n",
       "      <th>0</th>\n",
       "      <td>c1m1</td>\n",
       "      <td>1.0</td>\n",
       "      <td>28.2</td>\n",
       "      <td>108.01</td>\n",
       "      <td>8.11</td>\n",
       "      <td>8.02</td>\n",
       "      <td>3.86</td>\n",
       "      <td>33.0</td>\n",
       "      <td>0.1500</td>\n",
       "      <td>0.000000e+00</td>\n",
       "      <td>0.000000</td>\n",
       "      <td>0.000000</td>\n",
       "    </tr>\n",
       "    <tr>\n",
       "      <th>1</th>\n",
       "      <td>c1m1</td>\n",
       "      <td>2.0</td>\n",
       "      <td>28.0</td>\n",
       "      <td>104.65</td>\n",
       "      <td>8.14</td>\n",
       "      <td>8.07</td>\n",
       "      <td>4.00</td>\n",
       "      <td>31.0</td>\n",
       "      <td>0.1660</td>\n",
       "      <td>7.000000e-07</td>\n",
       "      <td>0.000001</td>\n",
       "      <td>0.000001</td>\n",
       "    </tr>\n",
       "    <tr>\n",
       "      <th>2</th>\n",
       "      <td>c1m1</td>\n",
       "      <td>3.0</td>\n",
       "      <td>26.5</td>\n",
       "      <td>106.83</td>\n",
       "      <td>8.21</td>\n",
       "      <td>8.01</td>\n",
       "      <td>4.30</td>\n",
       "      <td>35.0</td>\n",
       "      <td>0.1680</td>\n",
       "      <td>2.180000e-05</td>\n",
       "      <td>0.000021</td>\n",
       "      <td>0.000039</td>\n",
       "    </tr>\n",
       "    <tr>\n",
       "      <th>3</th>\n",
       "      <td>c1m1</td>\n",
       "      <td>4.0</td>\n",
       "      <td>25.7</td>\n",
       "      <td>100.97</td>\n",
       "      <td>8.25</td>\n",
       "      <td>8.08</td>\n",
       "      <td>4.26</td>\n",
       "      <td>29.0</td>\n",
       "      <td>0.1950</td>\n",
       "      <td>3.134000e-04</td>\n",
       "      <td>0.000292</td>\n",
       "      <td>0.000534</td>\n",
       "    </tr>\n",
       "    <tr>\n",
       "      <th>4</th>\n",
       "      <td>c1m1</td>\n",
       "      <td>5.0</td>\n",
       "      <td>25.4</td>\n",
       "      <td>104.97</td>\n",
       "      <td>8.25</td>\n",
       "      <td>8.07</td>\n",
       "      <td>4.04</td>\n",
       "      <td>30.0</td>\n",
       "      <td>0.1859</td>\n",
       "      <td>2.510100e-03</td>\n",
       "      <td>0.002197</td>\n",
       "      <td>0.004020</td>\n",
       "    </tr>\n",
       "  </tbody>\n",
       "</table>\n",
       "</div>"
      ],
      "text/plain": [
       "  sample_id  day_index  air_temp_c  light_intensity_umol_m2_s1  \\\n",
       "0      c1m1        1.0        28.2                      108.01   \n",
       "1      c1m1        2.0        28.0                      104.65   \n",
       "2      c1m1        3.0        26.5                      106.83   \n",
       "3      c1m1        4.0        25.7                      100.97   \n",
       "4      c1m1        5.0        25.4                      104.97   \n",
       "\n",
       "   ph_before_injection  ph_after_injection  do_mg_l  salinity_psu  \\\n",
       "0                 8.11                8.02     3.86          33.0   \n",
       "1                 8.14                8.07     4.00          31.0   \n",
       "2                 8.21                8.01     4.30          35.0   \n",
       "3                 8.25                8.08     4.26          29.0   \n",
       "4                 8.25                8.07     4.04          30.0   \n",
       "\n",
       "   optical_density  dry_weight_g_l  growth_rate  co2_fixation_g_l_day  \n",
       "0           0.1500    0.000000e+00     0.000000              0.000000  \n",
       "1           0.1660    7.000000e-07     0.000001              0.000001  \n",
       "2           0.1680    2.180000e-05     0.000021              0.000039  \n",
       "3           0.1950    3.134000e-04     0.000292              0.000534  \n",
       "4           0.1859    2.510100e-03     0.002197              0.004020  "
      ]
     },
     "execution_count": 29,
     "metadata": {},
     "output_type": "execute_result"
    }
   ],
   "source": [
    "df = pd.read_csv(IN_CSV, sep=\";\", encoding=\"utf-8-sig\")\n",
    "df.columns = [canon(c) for c in df.columns]\n",
    "\n",
    "print(df.shape)\n",
    "df.head()\n"
   ]
  },
  {
   "cell_type": "code",
   "execution_count": 30,
   "id": "6ff15ad6-33dd-43fa-826e-8c648ddf6eab",
   "metadata": {},
   "outputs": [
    {
     "name": "stdout",
     "output_type": "stream",
     "text": [
      "Target: co2_fixation_g_l_day\n",
      "Features: ['day_index', 'air_temp_c', 'light_intensity_umol_m2_s1', 'ph_before_injection', 'ph_after_injection', 'do_mg_l', 'salinity_psu', 'optical_density', 'dry_weight_g_l', 'growth_rate']\n"
     ]
    }
   ],
   "source": [
    "# ID-like columns that should not be used as features\n",
    "drop_like = {\"sample_id\", \"id\", \"row_id\"}\n",
    "\n",
    "num_cols = df.select_dtypes(include=\"number\").columns.tolist()\n",
    "\n",
    "# auto features: numeric, not the target, not id-like\n",
    "features_auto = [c for c in num_cols if c != TARGET and c not in drop_like]\n",
    "\n",
    "# If you prefer to force exact features, uncomment and edit:\n",
    "# WANTED = [\n",
    "#    \"day_index\", \"air_temp_c\", \"light_intensity_umol_m2_s1\",\n",
    "#    \"ph_before_injection\", \"ph_after_injection\", \"do_mg_l\",\n",
    "#    \"salinity_psu\", \"optical_density\", \"dry_weight_g_l\", \"growth_rate\"\n",
    "# ]\n",
    "# features = [f for f in WANTED if f in df.columns]\n",
    "\n",
    "features = features_auto\n",
    "\n",
    "print(\"Target:\", TARGET)\n",
    "print(\"Features:\", features)\n"
   ]
  },
  {
   "cell_type": "code",
   "execution_count": 35,
   "id": "da649298-bb98-4b8c-b8f7-83977629cb75",
   "metadata": {},
   "outputs": [
    {
     "name": "stdout",
     "output_type": "stream",
     "text": [
      "rows before dropna target: 300\n",
      "rows after dropna target: 296\n"
     ]
    }
   ],
   "source": [
    "TARGET = \"co2_fixation_g_l_day\"\n",
    "\n",
    "# BEFORE split:\n",
    "print(\"rows before dropna target:\", len(df))\n",
    "df = df.dropna(subset=[TARGET]).copy()\n",
    "print(\"rows after dropna target:\", len(df))"
   ]
  },
  {
   "cell_type": "code",
   "execution_count": 36,
   "id": "adc29aca-165a-4c8c-8596-42f1ab8b3fdf",
   "metadata": {},
   "outputs": [
    {
     "data": {
      "text/plain": [
       "((232, 10), (64, 10), (232,), (64,))"
      ]
     },
     "execution_count": 36,
     "metadata": {},
     "output_type": "execute_result"
    }
   ],
   "source": [
    "y = df[TARGET].astype(float)\n",
    "\n",
    "if \"sample_id\" in df.columns:\n",
    "    groups = df[\"sample_id\"].astype(str)\n",
    "    splitter = GroupShuffleSplit(n_splits=1, train_size=0.8, random_state=42)\n",
    "    train_idx, test_idx = next(splitter.split(df, y, groups=groups))\n",
    "else:\n",
    "    train_idx, test_idx = train_test_split(\n",
    "        np.arange(len(df)), test_size=0.2, random_state=42, shuffle=True\n",
    "    )\n",
    "\n",
    "X_train_df = df.iloc[train_idx][features].copy()\n",
    "X_test_df  = df.iloc[test_idx][features].copy()\n",
    "y_train = y.iloc[train_idx].copy()\n",
    "y_test  = y.iloc[test_idx].copy()\n",
    "\n",
    "X_train_df.shape, X_test_df.shape, y_train.shape, y_test.shape\n"
   ]
  },
  {
   "cell_type": "code",
   "execution_count": 37,
   "id": "e9ab8469-2d56-46a8-8249-52119c6cdbdc",
   "metadata": {},
   "outputs": [
    {
     "data": {
      "text/plain": [
       "((232, 10), (64, 10))"
      ]
     },
     "execution_count": 37,
     "metadata": {},
     "output_type": "execute_result"
    }
   ],
   "source": [
    "numeric_pipe = Pipeline(steps=[\n",
    "    (\"imputer\", SimpleImputer(strategy=\"median\")),\n",
    "    (\"scaler\",  StandardScaler())\n",
    "])\n",
    "\n",
    "# Only numeric columns here; if you ever add categoricals, extend this ColumnTransformer\n",
    "preprocess = ColumnTransformer(\n",
    "    transformers=[\n",
    "        (\"num\", numeric_pipe, features)\n",
    "    ],\n",
    "    remainder=\"drop\"\n",
    ")\n",
    "\n",
    "# Fit on train, transform train & test\n",
    "X_train_proc = preprocess.fit_transform(X_train_df)\n",
    "X_test_proc  = preprocess.transform(X_test_df)\n",
    "\n",
    "X_train_proc.shape, X_test_proc.shape\n"
   ]
  },
  {
   "cell_type": "code",
   "execution_count": 38,
   "id": "b4bd19cc-e864-459a-829c-a516b3fc6734",
   "metadata": {},
   "outputs": [
    {
     "name": "stdout",
     "output_type": "stream",
     "text": [
      "saved to: D:\\6 Project\\ZeroAlgae\\Research\\carbon-fixation-ml-starter\\data\\processed\n"
     ]
    }
   ],
   "source": [
    "ART_DIR.mkdir(parents=True, exist_ok=True)\n",
    "\n",
    "np.save(ART_DIR / \"X_train_proc.npy\", X_train_proc)\n",
    "np.save(ART_DIR / \"X_test_proc.npy\",  X_test_proc)\n",
    "\n",
    "pd.Series(y_train).to_csv(ART_DIR / \"y_train.csv\", index=False)\n",
    "pd.Series(y_test ).to_csv(ART_DIR / \"y_test.csv\",  index=False)\n",
    "\n",
    "joblib.dump(preprocess, ART_DIR / \"preprocess_pipeline.joblib\")\n",
    "\n",
    "# Save the exact feature order the pipeline expects\n",
    "pd.Series(features).to_csv(ART_DIR / \"features_used.csv\", index=False, header=False)\n",
    "\n",
    "print(\"saved to:\", ART_DIR)\n"
   ]
  },
  {
   "cell_type": "code",
   "execution_count": 39,
   "id": "4ff837f4-918d-45c4-b4fa-0511967aad27",
   "metadata": {},
   "outputs": [
    {
     "name": "stdout",
     "output_type": "stream",
     "text": [
      "Xtr/Xte: (232, 10) (64, 10)\n",
      "ytr/yte: (232,) (64,)\n",
      "pipe ok: ColumnTransformer features: 10\n"
     ]
    }
   ],
   "source": [
    "# Reload and do a round-trip to ensure nothing is missing\n",
    "Xtr = np.load(ART_DIR / \"X_train_proc.npy\")\n",
    "Xte = np.load(ART_DIR / \"X_test_proc.npy\")\n",
    "ytr = pd.read_csv(ART_DIR / \"y_train.csv\").squeeze(\"columns\").values\n",
    "yte = pd.read_csv(ART_DIR / \"y_test.csv\").squeeze(\"columns\").values\n",
    "pipe = joblib.load(ART_DIR / \"preprocess_pipeline.joblib\")\n",
    "feat = pd.read_csv(ART_DIR / \"features_used.csv\", header=None).iloc[:,0].tolist()\n",
    "\n",
    "print(\"Xtr/Xte:\", Xtr.shape, Xte.shape)\n",
    "print(\"ytr/yte:\", ytr.shape, yte.shape)\n",
    "print(\"pipe ok:\", type(pipe).__name__, \"features:\", len(feat))\n"
   ]
  },
  {
   "cell_type": "code",
   "execution_count": null,
   "id": "2ab66e38-4934-45a8-924f-5154d2fa87a7",
   "metadata": {},
   "outputs": [],
   "source": []
  }
 ],
 "metadata": {
  "kernelspec": {
   "display_name": "Python 3 (ipykernel)",
   "language": "python",
   "name": "python3"
  },
  "language_info": {
   "codemirror_mode": {
    "name": "ipython",
    "version": 3
   },
   "file_extension": ".py",
   "mimetype": "text/x-python",
   "name": "python",
   "nbconvert_exporter": "python",
   "pygments_lexer": "ipython3",
   "version": "3.13.2"
  }
 },
 "nbformat": 4,
 "nbformat_minor": 5
}
